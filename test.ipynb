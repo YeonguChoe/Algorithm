{
 "cells": [
  {
   "cell_type": "code",
   "execution_count": 7,
   "metadata": {},
   "outputs": [],
   "source": [
    "from collections import deque\n",
    "\n",
    "\n",
    "def numOfIsland(grid):\n",
    "    row = len(grid)\n",
    "    column = len(grid[0])\n",
    "    count = 0\n",
    "\n",
    "    for y in range(row):\n",
    "        for x in range(column):\n",
    "            if grid[y][x] == \"1\":\n",
    "                count += 1\n",
    "                bfs(x, y, grid)\n",
    "    return count\n",
    "\n",
    "\n",
    "def bfs(x, y, grid):\n",
    "    Q = deque([])\n",
    "    grid[y][x] = \"0\"\n",
    "    Q.append([x, y])\n",
    "    while len(Q) > 0:\n",
    "        current_cell = Q.popleft()\n",
    "        current_x = current_cell[0]\n",
    "        current_y = current_cell[1]\n",
    "        direction = [[1, 0], [0, 1], [-1, 0], [0, -1]]\n",
    "        for move in direction:\n",
    "            neighbor = [current_x + move[0], current_y + move[1]]\n",
    "            if (\n",
    "                neighbor[0] in range(len(grid[1]))\n",
    "                and neighbor[1] in range(len(grid[0]))\n",
    "                and grid[neighbor[1]][neighbor[0]] == \"1\"\n",
    "            ):\n",
    "                grid[neighbor[1]][neighbor[0]] = \"0\"\n",
    "                Q.append(neighbor)"
   ]
  },
  {
   "cell_type": "code",
   "execution_count": 8,
   "metadata": {},
   "outputs": [
    {
     "data": {
      "text/plain": [
       "1"
      ]
     },
     "execution_count": 8,
     "metadata": {},
     "output_type": "execute_result"
    }
   ],
   "source": [
    "input = [\n",
    "    [\"1\", \"1\", \"1\", \"1\", \"0\"],\n",
    "    [\"1\", \"1\", \"0\", \"1\", \"0\"],\n",
    "    [\"1\", \"1\", \"0\", \"0\", \"0\"],\n",
    "    [\"0\", \"0\", \"0\", \"0\", \"0\"],\n",
    "]\n",
    "\n",
    "numOfIsland(input)"
   ]
  },
  {
   "cell_type": "code",
   "execution_count": null,
   "metadata": {},
   "outputs": [],
   "source": []
  }
 ],
 "metadata": {
  "kernelspec": {
   "display_name": "Python 3",
   "language": "python",
   "name": "python3"
  },
  "language_info": {
   "codemirror_mode": {
    "name": "ipython",
    "version": 3
   },
   "file_extension": ".py",
   "mimetype": "text/x-python",
   "name": "python",
   "nbconvert_exporter": "python",
   "pygments_lexer": "ipython3",
   "version": "3.9.6"
  }
 },
 "nbformat": 4,
 "nbformat_minor": 2
}
